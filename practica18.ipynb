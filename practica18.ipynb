{
 "cells": [
  {
   "cell_type": "code",
   "execution_count": null,
   "metadata": {},
   "outputs": [
    {
     "name": "stdout",
     "output_type": "stream",
     "text": [
      "escoge una opcion 1/2/3/4/salir\n",
      "14\n",
      "a,b,c,d,e,f,g,h,i,j,k,l,m,n,atras s/n\n",
      "14\n",
      "p,k,f,v,g,h,y,,j,,jj,h,,,atras s/n\n",
      "14\n",
      "g,t,g,gn,n,n,n,n,n,n,n,n,n,n,atras s/n\n",
      "14\n",
      "a,b,c,d,e,f,r,g,y,h,j,u,k,n,atras s/n\n",
      "escoge una opcion 1/2/3/4/salir\n",
      "['a', 'b', 'c', 'd', 'f', 'r', 'g', 'h', 'j', 'u', 'k', 'n']\n",
      "atras s/n\n",
      "escoge una opcion 1/2/3/4/salir\n"
     ]
    }
   ],
   "source": [
    "val=True                                 #manejo de menus y listas en python con jupyter notebooks\n",
    "while val:\n",
    "    print(\"escoge una opcion 1/2/3/4/salir\")\n",
    "    op=input()\n",
    "    if op==\"1\":                          # imprime numeros con aumento de 2 numeros \n",
    "        val1=True\n",
    "        while val1:\n",
    "            n = 1\n",
    "            aumento = 2\n",
    "            while n <= 50:\n",
    "                print(n, end=\",\")\n",
    "                n += aumento\n",
    "                aumento = 3 - aumento\n",
    "            print(\"atras s/n\")\n",
    "            a=input()\n",
    "            if a==\"s\":\n",
    "                val1=False\n",
    "    if op==\"2\":                         # imprime numeros con aumento de 1 y cada 2 numeros una palabra\n",
    "        val2=True\n",
    "        while val2:\n",
    "            n = 1\n",
    "            color=0\n",
    "            while n <= 50:\n",
    "                print(n, end=\",\")\n",
    "                n = n+1\n",
    "                color = color + 1\n",
    "                if color%2 == 0:\n",
    "                    print(\"azul\")\n",
    "            print(\"atras s/n\")\n",
    "            a2=input()\n",
    "            if a2==\"s\":\n",
    "                val2=False\n",
    "    if op==\"3\":                         #crea una lista con una longitud de 14\n",
    "        val3=True\n",
    "        while val3:\n",
    "            list = []\n",
    "            c = 0\n",
    "            while c < 14:\n",
    "                dato = input(\"Ingrese 14 palabras: \")\n",
    "                list.append(dato)\n",
    "                c = c + 1\n",
    "            largo = len(list)\n",
    "            print(largo)\n",
    "            n = 0\n",
    "            while n < largo:\n",
    "                print(list[n], end =\",\")\n",
    "                n = n + 1  \n",
    "            print(\"atras s/n\")\n",
    "            a3=input()\n",
    "            if a3==\"s\":\n",
    "                val3=False\n",
    "    if op==\"4\":                          # interactua con la lista creada y elimina el indice y la palabra que seleccione el ususario \n",
    "        val4=True\n",
    "        while val4:\n",
    "            ind=int(input(\"Ingrese un indice: \"))\n",
    "            list.pop(ind)\n",
    "            pal=input(\"Ingrese una palabra: \")\n",
    "            list.remove(pal)\n",
    "            print(list)\n",
    "            print(\"atras s/n\")\n",
    "            a4=input()\n",
    "            if a4==\"s\":\n",
    "                val4=False\n",
    "    if op==\"salir\":                      # termina el programa \n",
    "        val=False\n"
   ]
  }
 ],
 "metadata": {
  "kernelspec": {
   "display_name": "Python 3",
   "language": "python",
   "name": "python3"
  },
  "language_info": {
   "codemirror_mode": {
    "name": "ipython",
    "version": 3
   },
   "file_extension": ".py",
   "mimetype": "text/x-python",
   "name": "python",
   "nbconvert_exporter": "python",
   "pygments_lexer": "ipython3",
   "version": "3.12.1"
  }
 },
 "nbformat": 4,
 "nbformat_minor": 2
}
